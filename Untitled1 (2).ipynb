{
  "cells": [
    {
      "cell_type": "code",
      "execution_count": 21,
      "metadata": {
        "colab": {
          "base_uri": "https://localhost:8080/"
        },
        "id": "Id34fgvzsRcg",
        "outputId": "d33bb675-8612-4ed4-c593-7f8eba25c3e6"
      },
      "outputs": [
        {
          "output_type": "stream",
          "name": "stdout",
          "text": [
            "Hola Mundo\n"
          ]
        }
      ],
      "source": [
        "print('Hola Mundo')"
      ]
    },
    {
      "cell_type": "code",
      "execution_count": null,
      "metadata": {
        "id": "UECIGulW4LHB"
      },
      "outputs": [],
      "source": [
        "m,"
      ]
    },
    {
      "cell_type": "code",
      "execution_count": null,
      "metadata": {
        "colab": {
          "base_uri": "https://localhost:8080/"
        },
        "id": "p6aXHJ_Lx4nG",
        "outputId": "5e0da542-c572-42f2-9aad-a55dc1e69307"
      },
      "outputs": [
        {
          "name": "stdout",
          "output_type": "stream",
          "text": [
            "Escuela de Datos de Alura\n"
          ]
        }
      ],
      "source": [
        "print('Escuela de Datos de Alura')"
      ]
    },
    {
      "cell_type": "code",
      "execution_count": null,
      "metadata": {
        "colab": {
          "base_uri": "https://localhost:8080/"
        },
        "id": "0rAgmR-Yx6jS",
        "outputId": "59335248-fb25-4453-e9fc-5d6cb6301ce1"
      },
      "outputs": [
        {
          "name": "stdout",
          "output_type": "stream",
          "text": [
            "Nombre: <Raquel>\n",
            "Apellido: <Otero>\n"
          ]
        }
      ],
      "source": [
        "print('Nombre: <Raquel>')\n",
        "print('Apellido: <Otero>')"
      ]
    },
    {
      "cell_type": "code",
      "execution_count": null,
      "metadata": {
        "colab": {
          "base_uri": "https://localhost:8080/"
        },
        "id": "XsagPaynyJ3i",
        "outputId": "a6fa3d65-0a23-4378-8007-b7ad9dbbbf81"
      },
      "outputs": [
        {
          "name": "stdout",
          "output_type": "stream",
          "text": [
            "R\n",
            "A\n",
            "Q\n",
            "U\n",
            "E\n",
            "L\n"
          ]
        }
      ],
      "source": [
        "print('R')\n",
        "print('A')\n",
        "print('Q')\n",
        "print('U')\n",
        "print('E')\n",
        "print('L')"
      ]
    },
    {
      "cell_type": "code",
      "execution_count": null,
      "metadata": {
        "colab": {
          "base_uri": "https://localhost:8080/"
        },
        "id": "6b7yqcXM2_2g",
        "outputId": "867a498a-1b8e-4f9a-becb-434fd22b8b63"
      },
      "outputs": [
        {
          "name": "stdout",
          "output_type": "stream",
          "text": [
            "10\n"
          ]
        }
      ],
      "source": [
        "# Este es un comentario de una línea\n",
        "print(10) # Podemos colocar otro comentario en una línea después de un código\n"
      ]
    },
    {
      "cell_type": "code",
      "execution_count": null,
      "metadata": {
        "id": "DKIwaREfZcab"
      },
      "outputs": [],
      "source": [
        "edad =5"
      ]
    },
    {
      "cell_type": "code",
      "execution_count": null,
      "metadata": {
        "colab": {
          "base_uri": "https://localhost:8080/"
        },
        "id": "DUXI8p_mZgXw",
        "outputId": "1a6c64bd-d4f3-4e31-c00a-539f34415421"
      },
      "outputs": [
        {
          "data": {
            "text/plain": [
              "int"
            ]
          },
          "execution_count": 8,
          "metadata": {},
          "output_type": "execute_result"
        }
      ],
      "source": [
        "type (edad)"
      ]
    },
    {
      "cell_type": "code",
      "execution_count": null,
      "metadata": {
        "id": "pniKvagg2lws"
      },
      "outputs": [],
      "source": [
        "numerocinco=5"
      ]
    },
    {
      "cell_type": "code",
      "execution_count": null,
      "metadata": {
        "colab": {
          "base_uri": "https://localhost:8080/"
        },
        "id": "rNLmH7xq4WaU",
        "outputId": "56f42157-0181-4055-ecb4-58e167f15520"
      },
      "outputs": [
        {
          "data": {
            "text/plain": [
              "10750984"
            ]
          },
          "execution_count": 14,
          "metadata": {},
          "output_type": "execute_result"
        }
      ],
      "source": [
        "id(numerocinco)"
      ]
    },
    {
      "cell_type": "code",
      "execution_count": null,
      "metadata": {
        "colab": {
          "base_uri": "https://localhost:8080/"
        },
        "id": "EzQSymLf47RB",
        "outputId": "e8a2cc7d-d7d8-4be2-e4ed-f12a9186d635"
      },
      "outputs": [
        {
          "name": "stdout",
          "output_type": "stream",
          "text": [
            "10750984\n",
            "10750984\n"
          ]
        }
      ],
      "source": [
        "print(id(edad))\n",
        "print(id(numerocinco))"
      ]
    },
    {
      "cell_type": "markdown",
      "metadata": {
        "id": "ZRMo71Va9Kjy"
      },
      "source": [
        "[Página de Alura](https://www.aluracursos.com/)"
      ]
    },
    {
      "cell_type": "code",
      "execution_count": null,
      "metadata": {
        "colab": {
          "base_uri": "https://localhost:8080/"
        },
        "id": "a4PcejYgAIxC",
        "outputId": "193dc019-6ddc-41cc-d824-1b82a97c25ef"
      },
      "outputs": [
        {
          "name": "stdout",
          "output_type": "stream",
          "text": [
            "Raquel Otero 11 9.75 True\n",
            "<class 'str'> <class 'int'> <class 'float'> <class 'bool'>\n"
          ]
        }
      ],
      "source": [
        "nombre_estudiante= 'Raquel Otero'\n",
        "edad_estudiante= 11\n",
        "promedio_estudiante= 9.75\n",
        "aprobado= True\n",
        "\n",
        "print(nombre_estudiante,edad_estudiante,promedio_estudiante,aprobado)\n",
        "print(type(nombre_estudiante),type(edad_estudiante),type(promedio_estudiante),type(aprobado))"
      ]
    },
    {
      "cell_type": "code",
      "execution_count": null,
      "metadata": {
        "id": "oy8H6zCX0HVE"
      },
      "outputs": [],
      "source": [
        "c_vigilantes = 5\n",
        "s_vigilantes = 300\n",
        "\n",
        "c_docente = 16\n",
        "s_docente = 500\n",
        "\n",
        "c_coordinador = 2\n",
        "s_coordinador = 600\n"
      ]
    },
    {
      "cell_type": "code",
      "execution_count": null,
      "metadata": {
        "colab": {
          "base_uri": "https://localhost:8080/"
        },
        "id": "YaZny6Yp4rLK",
        "outputId": "fd96577a-8a3b-48df-df29-105e1f75bcc5"
      },
      "outputs": [
        {
          "output_type": "execute_result",
          "data": {
            "text/plain": [
              "23"
            ]
          },
          "metadata": {},
          "execution_count": 8
        }
      ],
      "source": [
        "total_empleados = c_vigilantes + c_docente + c_coordinador\n",
        "total_empleados"
      ]
    },
    {
      "cell_type": "code",
      "execution_count": null,
      "metadata": {
        "colab": {
          "base_uri": "https://localhost:8080/"
        },
        "id": "X7xMSSpb5Lwe",
        "outputId": "5e164f9a-ae19-4522-eb00-9546f5d0e31d"
      },
      "outputs": [
        {
          "output_type": "execute_result",
          "data": {
            "text/plain": [
              "300"
            ]
          },
          "metadata": {},
          "execution_count": 5
        }
      ],
      "source": [
        "diferencia_salario = s_coordinador - s_vigilantes\n",
        "diferencia_salario"
      ]
    },
    {
      "cell_type": "code",
      "execution_count": null,
      "metadata": {
        "colab": {
          "base_uri": "https://localhost:8080/"
        },
        "id": "Yu8HnuXD6TdF",
        "outputId": "d21b1937-f832-4ac9-8414-a50c1332ceff"
      },
      "outputs": [
        {
          "output_type": "execute_result",
          "data": {
            "text/plain": [
              "465.2173913043478"
            ]
          },
          "metadata": {},
          "execution_count": 9
        }
      ],
      "source": [
        "promedio_salario = (c_vigilantes * s_vigilantes + c_docente * s_docente + c_coordinador *s_coordinador)/total_empleados\n",
        "promedio_salario"
      ]
    },
    {
      "cell_type": "code",
      "execution_count": null,
      "metadata": {
        "colab": {
          "base_uri": "https://localhost:8080/"
        },
        "id": "MtBR2sug6Thb",
        "outputId": "748b87eb-d428-401d-91da-268e71a85c93"
      },
      "outputs": [
        {
          "output_type": "execute_result",
          "data": {
            "text/plain": [
              "float"
            ]
          },
          "metadata": {},
          "execution_count": 10
        }
      ],
      "source": [
        "type(promedio_salario)"
      ]
    },
    {
      "cell_type": "code",
      "execution_count": null,
      "metadata": {
        "colab": {
          "base_uri": "https://localhost:8080/"
        },
        "id": "RANdDUD27mol",
        "outputId": "0e0c3ae6-3568-490e-c503-fc0c544a4c42"
      },
      "outputs": [
        {
          "data": {
            "text/plain": [
              "int"
            ]
          },
          "execution_count": 9,
          "metadata": {},
          "output_type": "execute_result"
        }
      ],
      "source": [
        "type(total_empleados)"
      ]
    },
    {
      "cell_type": "code",
      "execution_count": null,
      "metadata": {
        "colab": {
          "base_uri": "https://localhost:8080/",
          "height": 35
        },
        "id": "Xygcv1U_BXDU",
        "outputId": "225fbbb2-c6d7-4166-e0d0-5993ef7d9b11"
      },
      "outputs": [
        {
          "data": {
            "application/vnd.google.colaboratory.intrinsic+json": {
              "type": "string"
            },
            "text/plain": [
              "'RAQUEL OTERO'"
            ]
          },
          "execution_count": 14,
          "metadata": {},
          "output_type": "execute_result"
        }
      ],
      "source": [
        "texto.upper()"
      ]
    },
    {
      "cell_type": "code",
      "execution_count": null,
      "metadata": {
        "colab": {
          "base_uri": "https://localhost:8080/",
          "height": 35
        },
        "id": "TMM3k9hwBhpU",
        "outputId": "d525a2c5-1182-44ac-b96b-bc2dc6e1c3b0"
      },
      "outputs": [
        {
          "data": {
            "application/vnd.google.colaboratory.intrinsic+json": {
              "type": "string"
            },
            "text/plain": [
              "'raquel otero'"
            ]
          },
          "execution_count": 15,
          "metadata": {},
          "output_type": "execute_result"
        }
      ],
      "source": [
        "texto.lower()"
      ]
    },
    {
      "cell_type": "code",
      "execution_count": null,
      "metadata": {
        "colab": {
          "base_uri": "https://localhost:8080/",
          "height": 35
        },
        "id": "MkLrSFY3Bz4E",
        "outputId": "0e1d1559-d4ee-4af8-93d1-54d3e2b4f60b"
      },
      "outputs": [
        {
          "data": {
            "application/vnd.google.colaboratory.intrinsic+json": {
              "type": "string"
            },
            "text/plain": [
              "'raquel otero'"
            ]
          },
          "execution_count": 17,
          "metadata": {},
          "output_type": "execute_result"
        }
      ],
      "source": [
        "texto.strip()"
      ]
    },
    {
      "cell_type": "code",
      "execution_count": null,
      "metadata": {
        "colab": {
          "base_uri": "https://localhost:8080/"
        },
        "id": "9VXBoVKxB5pk",
        "outputId": "3c525f01-2047-4232-bc94-d4e7894066f0"
      },
      "outputs": [
        {
          "data": {
            "text/plain": [
              "139509122977392"
            ]
          },
          "execution_count": 30,
          "metadata": {},
          "output_type": "execute_result"
        }
      ],
      "source": [
        "id(texto)"
      ]
    },
    {
      "cell_type": "code",
      "execution_count": null,
      "metadata": {
        "colab": {
          "base_uri": "https://localhost:8080/",
          "height": 35
        },
        "id": "XY75GMg4Ie4k",
        "outputId": "1a0f9e93-0fd1-4124-af04-3aef122d28b4"
      },
      "outputs": [
        {
          "data": {
            "application/vnd.google.colaboratory.intrinsic+json": {
              "type": "string"
            },
            "text/plain": [
              "'raquul oturo'"
            ]
          },
          "execution_count": 32,
          "metadata": {},
          "output_type": "execute_result"
        }
      ],
      "source": [
        "texto.replace('e','u')"
      ]
    },
    {
      "cell_type": "code",
      "execution_count": null,
      "metadata": {
        "colab": {
          "base_uri": "https://localhost:8080/",
          "height": 35
        },
        "id": "w0DXbuVKKKoU",
        "outputId": "7d0f9511-5da1-46b0-a661-ec9714b5d2ae"
      },
      "outputs": [
        {
          "data": {
            "application/vnd.google.colaboratory.intrinsic+json": {
              "type": "string"
            },
            "text/plain": [
              "'raquel otero'"
            ]
          },
          "execution_count": 33,
          "metadata": {},
          "output_type": "execute_result"
        }
      ],
      "source": [
        "texto"
      ]
    },
    {
      "cell_type": "code",
      "execution_count": null,
      "metadata": {
        "colab": {
          "base_uri": "https://localhost:8080/"
        },
        "id": "D0wDREFkKTdt",
        "outputId": "e51f0978-a31e-42ca-e613-ab901ad53035"
      },
      "outputs": [
        {
          "data": {
            "text/plain": [
              "139509122977392"
            ]
          },
          "execution_count": 34,
          "metadata": {},
          "output_type": "execute_result"
        }
      ],
      "source": [
        "id(texto)"
      ]
    },
    {
      "cell_type": "code",
      "execution_count": null,
      "metadata": {
        "colab": {
          "base_uri": "https://localhost:8080/"
        },
        "id": "v3v7PB2iKYy-",
        "outputId": "dc66849f-4233-4810-da13-312d96267ca6"
      },
      "outputs": [
        {
          "name": "stdout",
          "output_type": "stream",
          "text": [
            "RAKUEL OTERO\n",
            "139509122977392\n",
            "139509122987056\n"
          ]
        },
        {
          "data": {
            "text/plain": [
              "(None, None)"
            ]
          },
          "execution_count": 41,
          "metadata": {},
          "output_type": "execute_result"
        }
      ],
      "source": [
        "nuevo_texto = texto.strip().replace('q','K').upper()\n",
        "print(nuevo_texto)\n",
        "print(id(texto)),print(id(nuevo_texto))"
      ]
    },
    {
      "cell_type": "code",
      "execution_count": null,
      "metadata": {
        "colab": {
          "base_uri": "https://localhost:8080/"
        },
        "id": "L5w3uydBMM9M",
        "outputId": "d66d5ff3-72b1-4e40-cb41-65c538c1a434"
      },
      "outputs": [
        {
          "data": {
            "text/plain": [
              "1"
            ]
          },
          "execution_count": 42,
          "metadata": {},
          "output_type": "execute_result"
        }
      ],
      "source": [
        "7%3"
      ]
    },
    {
      "cell_type": "code",
      "execution_count": null,
      "metadata": {
        "id": "LUY4aaw6bhjz"
      },
      "outputs": [],
      "source": [
        "nombre = input(\"Ingrese su nombre: \")"
      ]
    },
    {
      "cell_type": "code",
      "execution_count": null,
      "metadata": {
        "id": "VMwXAp1Rc2fO"
      },
      "outputs": [],
      "source": [
        "type(nombre)"
      ]
    },
    {
      "cell_type": "code",
      "execution_count": null,
      "metadata": {
        "colab": {
          "base_uri": "https://localhost:8080/",
          "height": 35
        },
        "id": "JApurkkwc98i",
        "outputId": "1f036146-08d3-42cb-aedc-0d4f728dc142"
      },
      "outputs": [
        {
          "output_type": "execute_result",
          "data": {
            "text/plain": [
              "'Hola'"
            ],
            "application/vnd.google.colaboratory.intrinsic+json": {
              "type": "string"
            }
          },
          "metadata": {},
          "execution_count": 37
        }
      ],
      "source": [
        "chr(72) + chr(111) +  chr(108) + chr(97)"
      ]
    },
    {
      "cell_type": "code",
      "execution_count": null,
      "metadata": {
        "colab": {
          "base_uri": "https://localhost:8080/"
        },
        "id": "k_VU4raYm3vK",
        "outputId": "c6691dd9-7c70-42de-ae2b-4772e6494748"
      },
      "outputs": [
        {
          "output_type": "stream",
          "name": "stdout",
          "text": [
            "Nombre del alumno es Penélope Camacho, tiene 11 años y su media es 9.950000.\n"
          ]
        }
      ],
      "source": [
        "nombre_alumno = 'Penélope Camacho'\n",
        "edad_alumno = 11\n",
        "media_alumno = 9.95\n",
        "print('Nombre del alumno es %s, tiene %d años y su media es %f.' %(nombre_alumno, edad_alumno, media_alumno))"
      ]
    },
    {
      "cell_type": "code",
      "execution_count": null,
      "metadata": {
        "id": "hYWbUO322IyD"
      },
      "outputs": [],
      "source": []
    },
    {
      "cell_type": "code",
      "execution_count": null,
      "metadata": {
        "colab": {
          "base_uri": "https://localhost:8080/"
        },
        "id": "LIjXIhfMm-kb",
        "outputId": "416a592a-b32b-44d2-8fed-ff304228b397"
      },
      "outputs": [
        {
          "output_type": "stream",
          "name": "stdout",
          "text": [
            "Nombre del alumno es Fabricio Daniel, tiene 15 años y su media es 9.95.\n"
          ]
        }
      ],
      "source": [
        "nombre_alumno = 'Fabricio Daniel'\n",
        "edad_alumno = 15\n",
        "media_alumno = 9.95\n",
        "print('Nombre del alumno es {}, tiene {} años y su media es {}.' .format(nombre_alumno, edad_alumno, media_alumno))"
      ]
    },
    {
      "cell_type": "code",
      "execution_count": null,
      "metadata": {
        "id": "9OCu_WSMn-Ki"
      },
      "outputs": [],
      "source": [
        "ano_admision = input('Digita el ano de ano_admision: ')"
      ]
    },
    {
      "cell_type": "code",
      "execution_count": null,
      "metadata": {
        "colab": {
          "base_uri": "https://localhost:8080/"
        },
        "id": "uoMEDSRhwngq",
        "outputId": "db9444bf-ef2e-49a8-a53b-e0842926e241"
      },
      "outputs": [
        {
          "name": "stdout",
          "output_type": "stream",
          "text": [
            "Digita el ano de ano_salida: \n"
          ]
        }
      ],
      "source": [
        "ano_salida = input('Digita el ano de ano_salida: ')"
      ]
    },
    {
      "cell_type": "code",
      "execution_count": null,
      "metadata": {
        "id": "DIaBQRUEwGix"
      },
      "outputs": [],
      "source": [
        "type(ano_admision)"
      ]
    },
    {
      "cell_type": "code",
      "execution_count": null,
      "metadata": {
        "id": "ZuZkuYAL2Ud_"
      },
      "outputs": [],
      "source": [
        "nombre = input('Ingrese su nombre: ')\n",
        "print(f'¡Hola, {nombre}!')"
      ]
    },
    {
      "cell_type": "code",
      "source": [
        "nombre = input('Ingrese su nombre, y su: ')\n",
        "edad = input('Ingrese su nombre, y su: ')\n",
        "print(f'¡Hola, {nombre}, tienes {edad} anos.!')\n"
      ],
      "metadata": {
        "id": "0Xv7B8pwBYu_"
      },
      "execution_count": null,
      "outputs": []
    },
    {
      "cell_type": "code",
      "source": [
        "nombre = input('Ingrese su nombre, : ')\n",
        "edad = input('Ingrese su nombre, y su: ')\n",
        "altura = float(input('Ingrese su altura'))\n",
        "print(f'¡Hola, {nombre}, tienes {edad} anos, y mides {edad}.!')"
      ],
      "metadata": {
        "id": "K3uY7zruDAgM"
      },
      "execution_count": null,
      "outputs": []
    },
    {
      "cell_type": "markdown",
      "source": [],
      "metadata": {
        "id": "JJ3lkpEEBTkw"
      }
    },
    {
      "cell_type": "code",
      "source": [
        "numeroa = int(input('Ingrese un numero, : '))\n",
        "numerob = int(input('Ingrese un numero, : '))\n",
        "numeroa + numerob"
      ],
      "metadata": {
        "colab": {
          "base_uri": "https://localhost:8080/"
        },
        "id": "u28X7S7UE3mH",
        "outputId": "896270a5-a86d-4043-f69b-4f7e9f4a8ea2"
      },
      "execution_count": null,
      "outputs": [
        {
          "name": "stdout",
          "output_type": "stream",
          "text": [
            "Ingrese un numero, : 3\n",
            "Ingrese un numero, : 5\n"
          ]
        },
        {
          "output_type": "execute_result",
          "data": {
            "text/plain": [
              "8"
            ]
          },
          "metadata": {},
          "execution_count": 5
        }
      ]
    },
    {
      "cell_type": "code",
      "source": [
        "numeroa = int(input('Ingrese un numero, : '))\n",
        "numerob = int(input('Ingrese un numero, : '))\n",
        "numeroc = int(input('Ingrese un numero, : '))\n",
        "numeroa + numerob + numeroc"
      ],
      "metadata": {
        "id": "ITpq2-8vFVoZ",
        "colab": {
          "base_uri": "https://localhost:8080/"
        },
        "outputId": "86541bfa-0816-4412-e955-ab39cbcaf3f5"
      },
      "execution_count": null,
      "outputs": [
        {
          "name": "stdout",
          "output_type": "stream",
          "text": [
            "Ingrese un numero, : 5\n",
            "Ingrese un numero, : 5\n",
            "Ingrese un numero, : 6\n"
          ]
        },
        {
          "output_type": "execute_result",
          "data": {
            "text/plain": [
              "16"
            ]
          },
          "metadata": {},
          "execution_count": 4
        }
      ]
    },
    {
      "cell_type": "code",
      "source": [
        "numeroa = int(input('Ingrese un numero, : '))\n",
        "numerob = int(input('Ingrese un numero, : '))\n",
        "numeroa - numerob"
      ],
      "metadata": {
        "id": "g8i5OIMyFwba",
        "colab": {
          "base_uri": "https://localhost:8080/"
        },
        "outputId": "1933c811-2dd7-4ed3-df77-be652e7f687c"
      },
      "execution_count": null,
      "outputs": [
        {
          "name": "stdout",
          "output_type": "stream",
          "text": [
            "Ingrese un numero, : 5\n",
            "Ingrese un numero, : 2\n"
          ]
        },
        {
          "output_type": "execute_result",
          "data": {
            "text/plain": [
              "3"
            ]
          },
          "metadata": {},
          "execution_count": 6
        }
      ]
    },
    {
      "cell_type": "code",
      "source": [
        "numeroa = int(input('Ingrese un numero, : '))\n",
        "numerob = int(input('Ingrese un numero, : '))\n",
        "print (numeroa * numerob)"
      ],
      "metadata": {
        "id": "OeKo5Jxegzfh",
        "colab": {
          "base_uri": "https://localhost:8080/"
        },
        "outputId": "a79f8b9d-67b6-4be7-800f-614dfa8359aa"
      },
      "execution_count": null,
      "outputs": [
        {
          "output_type": "stream",
          "name": "stdout",
          "text": [
            "Ingrese un numero, : 5\n",
            "Ingrese un numero, : 5\n",
            "25\n"
          ]
        }
      ]
    },
    {
      "cell_type": "code",
      "source": [
        "numerador = int(input('Ingrese el numerador: '))\n",
        "denominador = int(input('Ingrese el denominador (OBS: el valor no puede ser nulo): '))\n",
        "print(numerador / denominador)"
      ],
      "metadata": {
        "id": "IORL8l16focJ",
        "colab": {
          "base_uri": "https://localhost:8080/"
        },
        "outputId": "f6423133-a803-4762-f2ec-c4bc045444a3"
      },
      "execution_count": null,
      "outputs": [
        {
          "output_type": "stream",
          "name": "stdout",
          "text": [
            "Ingrese el numerador: 7\n",
            "Ingrese el denominador (OBS: el valor no puede ser nulo): 3\n",
            "2.3333333333333335\n"
          ]
        }
      ]
    },
    {
      "cell_type": "code",
      "source": [
        "nota_1 = float(input('Ingrese la nota'))\n",
        "nota_2 = float(input('Ingrese la nota'))\n",
        "nota_3 = float(input('Ingrese la nota'))\n",
        "print(f'Media {(nota_1+nota_2+nota_3)/3}.')\n"
      ],
      "metadata": {
        "id": "TwWi-fd4i3rI",
        "colab": {
          "base_uri": "https://localhost:8080/"
        },
        "outputId": "d5822996-225b-4c81-af17-d28a5b6f5bbb"
      },
      "execution_count": null,
      "outputs": [
        {
          "output_type": "stream",
          "name": "stdout",
          "text": [
            "Ingrese la nota5\n",
            "Ingrese la nota10\n",
            "Ingrese la nota5\n",
            "Media 6.666666666666667.\n"
          ]
        }
      ]
    },
    {
      "cell_type": "code",
      "source": [
        "numerador = int(input('Ingrese el numerador: '))\n",
        "denominador = int(input('Ingrese el denominador (OBS: el valor no puede ser nulo): '))\n",
        "print(numerador // denominador)"
      ],
      "metadata": {
        "colab": {
          "base_uri": "https://localhost:8080/"
        },
        "id": "Tkq_FDJNvEnS",
        "outputId": "65983e71-eb68-4e23-f306-af8fe31c459b"
      },
      "execution_count": null,
      "outputs": [
        {
          "output_type": "stream",
          "name": "stdout",
          "text": [
            "Ingrese el numerador: 7\n",
            "Ingrese el denominador (OBS: el valor no puede ser nulo): 3\n",
            "2\n"
          ]
        }
      ]
    },
    {
      "cell_type": "code",
      "source": [
        "numerador = int(input('Ingrese el numerador: '))\n",
        "denominador = int(input('Ingrese el denominador (OBS: el valor no puede ser nulo): '))\n",
        "print(numerador % denominador)"
      ],
      "metadata": {
        "colab": {
          "base_uri": "https://localhost:8080/"
        },
        "id": "1VzmUJ_-xtaK",
        "outputId": "050d9fb7-feda-425e-b3bd-f44e08383c6c"
      },
      "execution_count": null,
      "outputs": [
        {
          "output_type": "stream",
          "name": "stdout",
          "text": [
            "Ingrese el numerador: 7\n",
            "Ingrese el denominador (OBS: el valor no puede ser nulo): 3\n",
            "1\n"
          ]
        }
      ]
    },
    {
      "cell_type": "code",
      "source": [
        "media_ponderada = (5*1 + 12*2 + 20*3 + 15*4) / (1+2+3+4)\n",
        "print(f'Media {media_ponderada}')"
      ],
      "metadata": {
        "colab": {
          "base_uri": "https://localhost:8080/"
        },
        "id": "F3n_ewJPypzS",
        "outputId": "9f97d32e-4934-41d0-d92f-f9219e68d2da"
      },
      "execution_count": null,
      "outputs": [
        {
          "output_type": "stream",
          "name": "stdout",
          "text": [
            "Media 14.9\n"
          ]
        }
      ]
    },
    {
      "cell_type": "code",
      "source": [
        "media_ponderada = (5*1 + 12*2 + 20*3 + 15*4) / (1+2+3+4)\n",
        "print(f'Media {media_ponderada}.')"
      ],
      "metadata": {
        "colab": {
          "base_uri": "https://localhost:8080/"
        },
        "id": "c3g993TK1E9D",
        "outputId": "7c75e4f9-0617-45cd-b2f7-4bd4779036e7"
      },
      "execution_count": null,
      "outputs": [
        {
          "output_type": "stream",
          "name": "stdout",
          "text": [
            "Media 14.9.\n"
          ]
        }
      ]
    },
    {
      "cell_type": "code",
      "source": [
        "frase = '¡Hola Python!'\n",
        "print(frase)"
      ],
      "metadata": {
        "colab": {
          "base_uri": "https://localhost:8080/"
        },
        "id": "Lr-x9Ixqbl79",
        "outputId": "351eaf89-717f-49c0-b782-ea18e327e2e1"
      },
      "execution_count": null,
      "outputs": [
        {
          "output_type": "stream",
          "name": "stdout",
          "text": [
            "¡Hola Python!\n"
          ]
        }
      ]
    },
    {
      "cell_type": "code",
      "source": [
        "frase = input('Escribe una frase!: ')\n",
        "print(frase.upper())"
      ],
      "metadata": {
        "colab": {
          "base_uri": "https://localhost:8080/"
        },
        "id": "QPxsInNecCXG",
        "outputId": "5115110f-8572-4f2f-bb1b-c7fc75307761"
      },
      "execution_count": null,
      "outputs": [
        {
          "output_type": "stream",
          "name": "stdout",
          "text": [
            "Escribe una frase!: hola como te\n",
            "HOLA COMO TE\n"
          ]
        }
      ]
    },
    {
      "cell_type": "code",
      "source": [
        "frase = input('Escribe una frase!: ')\n",
        "print(frase.lower())"
      ],
      "metadata": {
        "colab": {
          "base_uri": "https://localhost:8080/"
        },
        "id": "nH2lIbjAb6o9",
        "outputId": "803a0c52-ce1c-49a5-b8c7-227487af65d1"
      },
      "execution_count": null,
      "outputs": [
        {
          "output_type": "stream",
          "name": "stdout",
          "text": [
            "Escribe una frase!: HOLA\n",
            "hola\n"
          ]
        }
      ]
    },
    {
      "cell_type": "code",
      "source": [
        "frase = ' ¡Hola Python! '\n",
        "print(frase.strip())"
      ],
      "metadata": {
        "colab": {
          "base_uri": "https://localhost:8080/"
        },
        "id": "ivrXuKwDdU7_",
        "outputId": "ff7106ad-58f8-4ad1-dc5f-8c601ead1934"
      },
      "execution_count": null,
      "outputs": [
        {
          "output_type": "stream",
          "name": "stdout",
          "text": [
            "¡Hola Python!\n"
          ]
        }
      ]
    },
    {
      "cell_type": "code",
      "source": [
        "frase = input('Escribe una frase: ')\n",
        "print(frase.strip())"
      ],
      "metadata": {
        "colab": {
          "base_uri": "https://localhost:8080/"
        },
        "id": "a1ZHP8-vd1TP",
        "outputId": "e61298da-9467-4919-dd5a-484ad6a00c70"
      },
      "execution_count": null,
      "outputs": [
        {
          "output_type": "stream",
          "name": "stdout",
          "text": [
            "Escribe una frase: HOLA COMO TEVA\n",
            "HOLA COMO TEVA\n"
          ]
        }
      ]
    },
    {
      "cell_type": "code",
      "source": [
        "frase = input('Escribe una frase: ')\n",
        "print(frase.lower().replace('e','f'))"
      ],
      "metadata": {
        "colab": {
          "base_uri": "https://localhost:8080/"
        },
        "id": "S3ciDskgeLS9",
        "outputId": "f37b2f1f-65e2-4d7e-ec6d-9c8557e29756"
      },
      "execution_count": null,
      "outputs": [
        {
          "output_type": "stream",
          "name": "stdout",
          "text": [
            "Escribe una frase: HOLA COMO ESTAS\n",
            "hola como fstas\n"
          ]
        }
      ]
    },
    {
      "cell_type": "code",
      "source": [
        "frase = input('Escribe una frase: ')\n",
        "print(frase.lower().replace('s','%'))"
      ],
      "metadata": {
        "id": "VHg9vo26enkd",
        "colab": {
          "base_uri": "https://localhost:8080/"
        },
        "outputId": "9859466b-7aee-4b69-e52f-e5aa45a13018"
      },
      "execution_count": 20,
      "outputs": [
        {
          "output_type": "stream",
          "name": "stdout",
          "text": [
            "Escribe una frase: HOLA COMO ESTAS\n",
            "hola como e%ta%\n"
          ]
        }
      ]
    },
    {
      "cell_type": "code",
      "source": [
        "frase = input('Escribe una frase: ')\n",
        "print(frase.lower().replace('s',chr(36)))"
      ],
      "metadata": {
        "id": "QtQuehmafD8c",
        "colab": {
          "base_uri": "https://localhost:8080/"
        },
        "outputId": "188d6d8e-3b55-4408-e49f-285e5374b2d7"
      },
      "execution_count": 22,
      "outputs": [
        {
          "output_type": "stream",
          "name": "stdout",
          "text": [
            "Escribe una frase: HOLA COMO ESTAS\n",
            "hola como e$ta$\n"
          ]
        }
      ]
    },
    {
      "cell_type": "code",
      "source": [
        "frase = input('Escribe una frase: ')\n",
        "print(frase.strip().lower())"
      ],
      "metadata": {
        "colab": {
          "base_uri": "https://localhost:8080/"
        },
        "id": "6dVJtXNBgbA1",
        "outputId": "9e91a87e-f1ee-44ab-9ef8-2521787d440b"
      },
      "execution_count": 23,
      "outputs": [
        {
          "output_type": "stream",
          "name": "stdout",
          "text": [
            "Escribe una frase: HOLA COMO ESTAS\n",
            "hola como estas\n"
          ]
        }
      ]
    },
    {
      "cell_type": "code",
      "source": [
        "frase = input('Escribe una frase!: ')\n",
        "print(frase.strip())"
      ],
      "metadata": {
        "colab": {
          "base_uri": "https://localhost:8080/"
        },
        "id": "yJzmvckRg1G2",
        "outputId": "5e9c788b-1f79-428d-cdaa-b4df828b4313"
      },
      "execution_count": 25,
      "outputs": [
        {
          "output_type": "stream",
          "name": "stdout",
          "text": [
            "Escribe una frase!: HOLA COMO ESTAS\n",
            "HOLA COMO ESTAS\n"
          ]
        }
      ]
    },
    {
      "cell_type": "code",
      "source": [
        "frase = input('Escribe una frase: ')\n",
        "print(frase.strip())"
      ],
      "metadata": {
        "colab": {
          "base_uri": "https://localhost:8080/"
        },
        "id": "4d_pdUWkhR9k",
        "outputId": "444d18ba-b320-48a7-862e-7a70d81a5320"
      },
      "execution_count": 26,
      "outputs": [
        {
          "output_type": "stream",
          "name": "stdout",
          "text": [
            "Escribe una frase:    HOLA COMO ESTAS\n",
            "HOLA COMO ESTAS\n"
          ]
        }
      ]
    }
  ],
  "metadata": {
    "colab": {
      "provenance": []
    },
    "kernelspec": {
      "display_name": "Python 3",
      "name": "python3"
    },
    "language_info": {
      "name": "python"
    }
  },
  "nbformat": 4,
  "nbformat_minor": 0
}